{
 "cells": [
  {
   "cell_type": "code",
   "execution_count": 94,
   "metadata": {},
   "outputs": [
    {
     "name": "stdout",
     "output_type": "stream",
     "text": [
      "Using matplotlib backend: <object object at 0x00000216B25A9B00>\n"
     ]
    }
   ],
   "source": [
    "import numpy as np\n",
    "import pandas as pd\n",
    "import matplotlib.pyplot as plt\n",
    "%matplotlib auto"
   ]
  },
  {
   "cell_type": "code",
   "execution_count": 78,
   "metadata": {},
   "outputs": [
    {
     "data": {
      "text/html": [
       "<div>\n",
       "<style scoped>\n",
       "    .dataframe tbody tr th:only-of-type {\n",
       "        vertical-align: middle;\n",
       "    }\n",
       "\n",
       "    .dataframe tbody tr th {\n",
       "        vertical-align: top;\n",
       "    }\n",
       "\n",
       "    .dataframe thead th {\n",
       "        text-align: right;\n",
       "    }\n",
       "</style>\n",
       "<table border=\"1\" class=\"dataframe\">\n",
       "  <thead>\n",
       "    <tr style=\"text-align: right;\">\n",
       "      <th></th>\n",
       "      <th>source_type</th>\n",
       "      <th>source_name</th>\n",
       "      <th>RA</th>\n",
       "      <th>DEC</th>\n",
       "      <th>z_hetdex</th>\n",
       "      <th>z_hetdex_conf</th>\n",
       "      <th>Zsin(RA)</th>\n",
       "      <th>Zcos(RA)</th>\n",
       "      <th>Zsin(DEC)</th>\n",
       "      <th>Zcos(DEC)</th>\n",
       "    </tr>\n",
       "  </thead>\n",
       "  <tbody>\n",
       "    <tr>\n",
       "      <th>0</th>\n",
       "      <td>lae</td>\n",
       "      <td>HETDEX J012809.05-010619.7</td>\n",
       "      <td>22.037708</td>\n",
       "      <td>-1.105466</td>\n",
       "      <td>2.162478</td>\n",
       "      <td>0.950000</td>\n",
       "      <td>0.811398</td>\n",
       "      <td>2.004481</td>\n",
       "      <td>-0.041720</td>\n",
       "      <td>2.162075</td>\n",
       "    </tr>\n",
       "    <tr>\n",
       "      <th>1</th>\n",
       "      <td>lae</td>\n",
       "      <td>HETDEX J012808.66-010619.2</td>\n",
       "      <td>22.036074</td>\n",
       "      <td>-1.105345</td>\n",
       "      <td>2.768879</td>\n",
       "      <td>0.950000</td>\n",
       "      <td>1.038857</td>\n",
       "      <td>2.566607</td>\n",
       "      <td>-0.053414</td>\n",
       "      <td>2.768364</td>\n",
       "    </tr>\n",
       "    <tr>\n",
       "      <th>2</th>\n",
       "      <td>lae</td>\n",
       "      <td>HETDEX J013608.63-010615.5</td>\n",
       "      <td>24.035955</td>\n",
       "      <td>-1.104304</td>\n",
       "      <td>2.319991</td>\n",
       "      <td>0.950000</td>\n",
       "      <td>0.944955</td>\n",
       "      <td>2.118824</td>\n",
       "      <td>-0.044712</td>\n",
       "      <td>2.319560</td>\n",
       "    </tr>\n",
       "    <tr>\n",
       "      <th>3</th>\n",
       "      <td>lae</td>\n",
       "      <td>HETDEX J020009.09-010603.7</td>\n",
       "      <td>30.037857</td>\n",
       "      <td>-1.101020</td>\n",
       "      <td>2.331798</td>\n",
       "      <td>0.266502</td>\n",
       "      <td>1.167233</td>\n",
       "      <td>2.018625</td>\n",
       "      <td>-0.044806</td>\n",
       "      <td>2.331367</td>\n",
       "    </tr>\n",
       "    <tr>\n",
       "      <th>4</th>\n",
       "      <td>lae</td>\n",
       "      <td>HETDEX J013605.08-010533.9</td>\n",
       "      <td>24.021162</td>\n",
       "      <td>-1.092748</td>\n",
       "      <td>1.997067</td>\n",
       "      <td>0.950000</td>\n",
       "      <td>0.812954</td>\n",
       "      <td>1.824112</td>\n",
       "      <td>-0.038086</td>\n",
       "      <td>1.996704</td>\n",
       "    </tr>\n",
       "  </tbody>\n",
       "</table>\n",
       "</div>"
      ],
      "text/plain": [
       "  source_type                 source_name         RA       DEC  z_hetdex  \\\n",
       "0         lae  HETDEX J012809.05-010619.7  22.037708 -1.105466  2.162478   \n",
       "1         lae  HETDEX J012808.66-010619.2  22.036074 -1.105345  2.768879   \n",
       "2         lae  HETDEX J013608.63-010615.5  24.035955 -1.104304  2.319991   \n",
       "3         lae  HETDEX J020009.09-010603.7  30.037857 -1.101020  2.331798   \n",
       "4         lae  HETDEX J013605.08-010533.9  24.021162 -1.092748  1.997067   \n",
       "\n",
       "   z_hetdex_conf  Zsin(RA)  Zcos(RA)  Zsin(DEC)  Zcos(DEC)  \n",
       "0       0.950000  0.811398  2.004481  -0.041720   2.162075  \n",
       "1       0.950000  1.038857  2.566607  -0.053414   2.768364  \n",
       "2       0.950000  0.944955  2.118824  -0.044712   2.319560  \n",
       "3       0.266502  1.167233  2.018625  -0.044806   2.331367  \n",
       "4       0.950000  0.812954  1.824112  -0.038086   1.996704  "
      ]
     },
     "execution_count": 78,
     "metadata": {},
     "output_type": "execute_result"
    }
   ],
   "source": [
    "file = 'output_data.csv'\n",
    "df = pd.read_csv(file)\n",
    "scale=10 \n",
    "df.head()"
   ]
  },
  {
   "cell_type": "code",
   "execution_count": 79,
   "metadata": {},
   "outputs": [],
   "source": [
    "df['Zcos(RA)'], df['Zsin(RA)'] = df['Zcos(RA)']*scale, df['Zsin(RA)']*scale\n",
    "df['Zcos(Dec)'], df['Zsin(Dec)'] = df['Zcos(DEC)']*scale, df['Zsin(DEC)']*scale"
   ]
  },
  {
   "cell_type": "code",
   "execution_count": 102,
   "metadata": {},
   "outputs": [],
   "source": [
    "plt.figure(figsize=(8, 6))\n",
    "plt.scatter(df['Zcos(RA)'], df['Zsin(RA)'], s=1, c='b', alpha=0.5)\n",
    "plt.ylabel(f'{scale}*(RA)')\n",
    "plt.xlabel(f'{scale}*Zcos(RA)')\n",
    "plt.title('2D Plot of Zsin(RA) and Zcos(RA)')\n",
    "plt.grid(True)\n",
    "\n",
    "plt.savefig('./plots/RA_cartesian.pdf', format='pdf', bbox_inches='tight')"
   ]
  },
  {
   "cell_type": "code",
   "execution_count": 103,
   "metadata": {},
   "outputs": [],
   "source": [
    "plt.figure(figsize=(8, 6))\n",
    "plt.scatter(df['Zcos(DEC)'], df['Zsin(DEC)'], s=1, c='b', alpha=0.5)\n",
    "plt.ylabel(f'{scale}*Zsin(DEC)')\n",
    "plt.xlabel(f'{scale}*Zcos(DEC)')\n",
    "plt.title('2D Plot of Zsin(DEC) and Zcos(DEC)')\n",
    "plt.grid(True)\n",
    "plt.savefig('./plots/DEC_cartesian.pdf', format='pdf', bbox_inches='tight')"
   ]
  },
  {
   "cell_type": "code",
   "execution_count": 97,
   "metadata": {},
   "outputs": [],
   "source": [
    "lims = (-1.2,1.104)\n",
    "# Filter the DataFrame based on the 'DEC' column\n",
    "filtered_df = df[(df['DEC'] >= lims[0]) & (df['DEC'] <= lims[1])]"
   ]
  },
  {
   "cell_type": "code",
   "execution_count": 99,
   "metadata": {},
   "outputs": [],
   "source": [
    "# Access the filtered 'Zcos(DEC)' and 'Zsin(DEC)' columns\n",
    "filtered_Zcos_DEC = filtered_df['Zcos(DEC)']\n",
    "filtered_Zsin_DEC = filtered_df['Zsin(DEC)']\n",
    "\n",
    "# Plot the filtered data\n",
    "plt.figure(figsize=(20,20))\n",
    "plt.scatter(filtered_Zcos_DEC, filtered_Zsin_DEC, s=1, c='b', alpha=0.5)\n",
    "plt.ylabel(f'{scale}*Zsin(DEC)')\n",
    "plt.xlabel(f'{scale}*Zcos(DEC)')\n",
    "plt.title(f'2D Plot of Zsin(DEC) and Zcos(DEC) for DEC between {lims[0]} and {lims[1]} degrees. {len(filtered_df)} Galaxies.')\n",
    "plt.xlim(1.9,3.5)\n",
    "plt.ylim(-0.06,0.06)\n",
    "plt.grid(True)\n",
    "plt.savefig('./plots/DECRANGE1.pdf', format='pdf', bbox_inches='tight')"
   ]
  },
  {
   "cell_type": "code",
   "execution_count": 100,
   "metadata": {},
   "outputs": [],
   "source": [
    "# Access the filtered 'Zcos(DEC)' and 'Zsin(DEC)' columns\n",
    "filtered_Zcos_RA = filtered_df['Zcos(RA)']\n",
    "filtered_Zsin_RA = filtered_df['Zsin(RA)']\n",
    "\n",
    "# Plot the filtered data\n",
    "plt.figure(figsize=(20,20))\n",
    "plt.scatter(filtered_Zcos_RA, filtered_Zsin_RA, s=1, c='b', alpha=0.5)\n",
    "plt.ylabel(f'{scale}*Zsin(RA)')\n",
    "plt.xlabel(f'{scale}*Zcos(RA)')\n",
    "plt.ylim(2.25,20)\n",
    "plt.xlim(15,35)\n",
    "plt.title(f'2D Plot of Zsin(RA) and Zcos(RA) for DEC between {lims[0]} and {lims[1]} degrees. {len(filtered_df)} Galaxies.')\n",
    "\n",
    "plt.grid(True)\n",
    "\n",
    "plt.savefig('./plots/RARANGE1.pdf', format='pdf', bbox_inches='tight')"
   ]
  },
  {
   "cell_type": "code",
   "execution_count": 86,
   "metadata": {},
   "outputs": [
    {
     "name": "stdout",
     "output_type": "stream",
     "text": [
      "0.8200000000000001\n"
     ]
    }
   ],
   "source": [
    "lims = (1.8,2.62)\n",
    "# Filter the DataFrame based on the 'DEC' column\n",
    "filtered_df = df[(df['DEC'] >= lims[0]) & (df['DEC'] <= lims[1])]"
   ]
  },
  {
   "cell_type": "code",
   "execution_count": 101,
   "metadata": {},
   "outputs": [],
   "source": [
    "# Access the filtered 'Zcos(DEC)' and 'Zsin(DEC)' columns\n",
    "filtered_Zcos_DEC = filtered_df['Zcos(DEC)']\n",
    "filtered_Zsin_DEC = filtered_df['Zsin(DEC)']\n",
    "\n",
    "# Plot the filtered data\n",
    "plt.figure(figsize=(20,20))\n",
    "plt.scatter(filtered_Zcos_DEC, filtered_Zsin_DEC, s=1, c='b', alpha=0.5)\n",
    "plt.ylabel(f'{scale}*Zsin(DEC)')\n",
    "plt.xlabel(f'{scale}*Zcos(DEC)')\n",
    "plt.title(f'2D Plot of Zsin(DEC) and Zcos(DEC) for DEC between {lims[0]} and {lims[1]} degrees. {len(filtered_df)} Galaxies.')\n",
    "\n",
    "plt.grid(True)\n",
    "\n",
    "plt.savefig('./plots/DECRANGE2.pdf', format='pdf', bbox_inches='tight')"
   ]
  }
 ],
 "metadata": {
  "kernelspec": {
   "display_name": "base",
   "language": "python",
   "name": "python3"
  },
  "language_info": {
   "codemirror_mode": {
    "name": "ipython",
    "version": 3
   },
   "file_extension": ".py",
   "mimetype": "text/x-python",
   "name": "python",
   "nbconvert_exporter": "python",
   "pygments_lexer": "ipython3",
   "version": "3.11.3"
  },
  "orig_nbformat": 4
 },
 "nbformat": 4,
 "nbformat_minor": 2
}

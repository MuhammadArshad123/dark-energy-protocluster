{
 "cells": [
  {
   "cell_type": "code",
   "execution_count": 3,
   "metadata": {},
   "outputs": [],
   "source": [
    "import numpy as np\n",
    "from astropy.io import fits\n",
    "import pandas as pd\n",
    "import matplotlib.pyplot as plt"
   ]
  },
  {
   "cell_type": "code",
   "execution_count": 4,
   "metadata": {},
   "outputs": [
    {
     "name": "stdout",
     "output_type": "stream",
     "text": [
      "Filename: ../data/hetdex_sc1_detinfo_v3.2.fits\n",
      "No.    Name      Ver    Type      Cards   Dimensions   Format\n",
      "  0  PRIMARY       1 PrimaryHDU       4   ()      \n",
      "  1                1 BinTableHDU    393   297261R x 86C   [K, 26A, E, E, E, 8A, E, 4A, K, L, 4A, 4A, E, E, E, K, E, E, E, E, E, E, E, E, E, E, E, E, E, E, K, E, E, E, E, E, E, E, E, E, E, E, E, E, E, E, E, 16A, 5A, E, E, E, E, 7A, 1A, E, K, E, E, E, E, E, E, E, E, K, 12A, J, J, 20A, 38A, E, J, J, E, E, E, E, 16A, 5A, E, E, E, E, E, E]   \n"
     ]
    }
   ],
   "source": [
    "file = '../data/hetdex_sc1_detinfo_v3.2.fits'\n",
    "hdul = fits.open(file) #open fits file\n",
    "hdul.info()\n",
    "# Step 4: Access the BinTableHDU (in this case, it's the second HDU with index 1)\n",
    "bintable_hdu = hdul[1]\n",
    "\n",
    "# Step 5: Extract data from the BinTableHDU and save it to a data variable\n",
    "data = bintable_hdu.data\n",
    "\n",
    "# Step 6: Close the FITS file when you are done with it\n",
    "hdul.close()"
   ]
  },
  {
   "cell_type": "code",
   "execution_count": 5,
   "metadata": {},
   "outputs": [],
   "source": [
    "columns_to_extract = ['source_type', 'source_name', 'RA', 'DEC', 'z_hetdex', 'z_hetdex_conf']"
   ]
  },
  {
   "cell_type": "code",
   "execution_count": 6,
   "metadata": {},
   "outputs": [],
   "source": [
    "raw_data = {col: data[col] for col in columns_to_extract}\n",
    "df_raw = pd.DataFrame(raw_data)\n",
    "raw_csv_file = 'raw_data.csv'\n",
    "df_raw.to_csv(raw_csv_file, index=False)"
   ]
  },
  {
   "cell_type": "code",
   "execution_count": 7,
   "metadata": {},
   "outputs": [],
   "source": [
    "data = data[data['source_type'] != 'star']\n",
    "data = data[data['z_hetdex'] >=1.9]\n",
    "data = data[data['z_hetdex_conf'] >= 0.1]\n",
    "sorted_indices = np.argsort(data['DEC'])\n",
    "data = data[sorted_indices]\n",
    "\n",
    "data_extracted = {col: data[col] for col in columns_to_extract}\n"
   ]
  },
  {
   "cell_type": "code",
   "execution_count": 8,
   "metadata": {},
   "outputs": [],
   "source": [
    "# Convert the data_extracted dictionary to a Pandas DataFrame\n",
    "df = pd.DataFrame(data_extracted)\n",
    "\n",
    "# Define the path for the CSV file\n",
    "output_csv_file = 'output_data.csv'\n",
    "\n",
    "# Write the DataFrame to a CSV file with headers\n",
    "df.to_csv(output_csv_file, index=False)"
   ]
  }
 ],
 "metadata": {
  "kernelspec": {
   "display_name": "base",
   "language": "python",
   "name": "python3"
  },
  "language_info": {
   "codemirror_mode": {
    "name": "ipython",
    "version": 3
   },
   "file_extension": ".py",
   "mimetype": "text/x-python",
   "name": "python",
   "nbconvert_exporter": "python",
   "pygments_lexer": "ipython3",
   "version": "3.10.9"
  },
  "orig_nbformat": 4
 },
 "nbformat": 4,
 "nbformat_minor": 2
}

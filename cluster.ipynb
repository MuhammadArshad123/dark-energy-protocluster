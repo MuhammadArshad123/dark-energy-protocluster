{
 "cells": [
  {
   "cell_type": "code",
   "execution_count": 73,
   "metadata": {},
   "outputs": [],
   "source": [
    "import numpy as np\n",
    "import pandas as pd\n",
    "import matplotlib.pyplot as plt\n",
    "from sklearn.cluster import DBSCAN"
   ]
  },
  {
   "cell_type": "code",
   "execution_count": 74,
   "metadata": {},
   "outputs": [
    {
     "data": {
      "text/html": [
       "<div>\n",
       "<style scoped>\n",
       "    .dataframe tbody tr th:only-of-type {\n",
       "        vertical-align: middle;\n",
       "    }\n",
       "\n",
       "    .dataframe tbody tr th {\n",
       "        vertical-align: top;\n",
       "    }\n",
       "\n",
       "    .dataframe thead th {\n",
       "        text-align: right;\n",
       "    }\n",
       "</style>\n",
       "<table border=\"1\" class=\"dataframe\">\n",
       "  <thead>\n",
       "    <tr style=\"text-align: right;\">\n",
       "      <th></th>\n",
       "      <th>source_type</th>\n",
       "      <th>source_name</th>\n",
       "      <th>RA</th>\n",
       "      <th>DEC</th>\n",
       "      <th>z_hetdex</th>\n",
       "      <th>z_hetdex_conf</th>\n",
       "      <th>Zsin(RA)</th>\n",
       "      <th>Zcos(RA)</th>\n",
       "      <th>Zsin(DEC)</th>\n",
       "      <th>Zcos(DEC)</th>\n",
       "    </tr>\n",
       "  </thead>\n",
       "  <tbody>\n",
       "    <tr>\n",
       "      <th>0</th>\n",
       "      <td>lae</td>\n",
       "      <td>HETDEX J012809.05-010619.7</td>\n",
       "      <td>22.037708</td>\n",
       "      <td>-1.105466</td>\n",
       "      <td>2.162478</td>\n",
       "      <td>0.950000</td>\n",
       "      <td>0.811398</td>\n",
       "      <td>2.004481</td>\n",
       "      <td>-0.041720</td>\n",
       "      <td>2.162075</td>\n",
       "    </tr>\n",
       "    <tr>\n",
       "      <th>1</th>\n",
       "      <td>lae</td>\n",
       "      <td>HETDEX J012808.66-010619.2</td>\n",
       "      <td>22.036074</td>\n",
       "      <td>-1.105345</td>\n",
       "      <td>2.768879</td>\n",
       "      <td>0.950000</td>\n",
       "      <td>1.038857</td>\n",
       "      <td>2.566607</td>\n",
       "      <td>-0.053414</td>\n",
       "      <td>2.768364</td>\n",
       "    </tr>\n",
       "    <tr>\n",
       "      <th>2</th>\n",
       "      <td>lae</td>\n",
       "      <td>HETDEX J013608.63-010615.5</td>\n",
       "      <td>24.035955</td>\n",
       "      <td>-1.104304</td>\n",
       "      <td>2.319991</td>\n",
       "      <td>0.950000</td>\n",
       "      <td>0.944955</td>\n",
       "      <td>2.118824</td>\n",
       "      <td>-0.044712</td>\n",
       "      <td>2.319560</td>\n",
       "    </tr>\n",
       "    <tr>\n",
       "      <th>3</th>\n",
       "      <td>lae</td>\n",
       "      <td>HETDEX J020009.09-010603.7</td>\n",
       "      <td>30.037857</td>\n",
       "      <td>-1.101020</td>\n",
       "      <td>2.331798</td>\n",
       "      <td>0.266502</td>\n",
       "      <td>1.167233</td>\n",
       "      <td>2.018625</td>\n",
       "      <td>-0.044806</td>\n",
       "      <td>2.331367</td>\n",
       "    </tr>\n",
       "    <tr>\n",
       "      <th>4</th>\n",
       "      <td>lae</td>\n",
       "      <td>HETDEX J013605.08-010533.9</td>\n",
       "      <td>24.021162</td>\n",
       "      <td>-1.092748</td>\n",
       "      <td>1.997067</td>\n",
       "      <td>0.950000</td>\n",
       "      <td>0.812954</td>\n",
       "      <td>1.824112</td>\n",
       "      <td>-0.038086</td>\n",
       "      <td>1.996704</td>\n",
       "    </tr>\n",
       "  </tbody>\n",
       "</table>\n",
       "</div>"
      ],
      "text/plain": [
       "  source_type                 source_name         RA       DEC  z_hetdex  \\\n",
       "0         lae  HETDEX J012809.05-010619.7  22.037708 -1.105466  2.162478   \n",
       "1         lae  HETDEX J012808.66-010619.2  22.036074 -1.105345  2.768879   \n",
       "2         lae  HETDEX J013608.63-010615.5  24.035955 -1.104304  2.319991   \n",
       "3         lae  HETDEX J020009.09-010603.7  30.037857 -1.101020  2.331798   \n",
       "4         lae  HETDEX J013605.08-010533.9  24.021162 -1.092748  1.997067   \n",
       "\n",
       "   z_hetdex_conf  Zsin(RA)  Zcos(RA)  Zsin(DEC)  Zcos(DEC)  \n",
       "0       0.950000  0.811398  2.004481  -0.041720   2.162075  \n",
       "1       0.950000  1.038857  2.566607  -0.053414   2.768364  \n",
       "2       0.950000  0.944955  2.118824  -0.044712   2.319560  \n",
       "3       0.266502  1.167233  2.018625  -0.044806   2.331367  \n",
       "4       0.950000  0.812954  1.824112  -0.038086   1.996704  "
      ]
     },
     "execution_count": 74,
     "metadata": {},
     "output_type": "execute_result"
    }
   ],
   "source": [
    "file = 'output_data.csv'\n",
    "df = pd.read_csv(file)\n",
    "df.head()"
   ]
  },
  {
   "cell_type": "code",
   "execution_count": null,
   "metadata": {},
   "outputs": [],
   "source": [
    "data = df[['RA', 'DEC', 'z_hetdex']]"
   ]
  },
  {
   "cell_type": "code",
   "execution_count": null,
   "metadata": {},
   "outputs": [],
   "source": [
    "eps = 0.1 \n",
    "min_samples = 5\n",
    "dbscan = DBSCAN(eps=eps, min_samples=min_samples)\n",
    "df['cluster_label'] = dbscan.fit_predict(data)\n",
    "print(len(df['cluster_label'].unique()))"
   ]
  },
  {
   "cell_type": "code",
   "execution_count": 75,
   "metadata": {},
   "outputs": [
    {
     "name": "stdout",
     "output_type": "stream",
     "text": [
      "11798\n"
     ]
    },
    {
     "ename": "KeyError",
     "evalue": "'cluster_label'",
     "output_type": "error",
     "traceback": [
      "\u001b[1;31m---------------------------------------------------------------------------\u001b[0m",
      "\u001b[1;31mKeyError\u001b[0m                                  Traceback (most recent call last)",
      "File \u001b[1;32mc:\\Users\\mmann\\anaconda3\\Lib\\site-packages\\pandas\\core\\indexes\\base.py:3802\u001b[0m, in \u001b[0;36mIndex.get_loc\u001b[1;34m(self, key, method, tolerance)\u001b[0m\n\u001b[0;32m   3801\u001b[0m \u001b[39mtry\u001b[39;00m:\n\u001b[1;32m-> 3802\u001b[0m     \u001b[39mreturn\u001b[39;00m \u001b[39mself\u001b[39m\u001b[39m.\u001b[39m_engine\u001b[39m.\u001b[39mget_loc(casted_key)\n\u001b[0;32m   3803\u001b[0m \u001b[39mexcept\u001b[39;00m \u001b[39mKeyError\u001b[39;00m \u001b[39mas\u001b[39;00m err:\n",
      "File \u001b[1;32mc:\\Users\\mmann\\anaconda3\\Lib\\site-packages\\pandas\\_libs\\index.pyx:138\u001b[0m, in \u001b[0;36mpandas._libs.index.IndexEngine.get_loc\u001b[1;34m()\u001b[0m\n",
      "File \u001b[1;32mc:\\Users\\mmann\\anaconda3\\Lib\\site-packages\\pandas\\_libs\\index.pyx:165\u001b[0m, in \u001b[0;36mpandas._libs.index.IndexEngine.get_loc\u001b[1;34m()\u001b[0m\n",
      "File \u001b[1;32mpandas\\_libs\\hashtable_class_helper.pxi:5745\u001b[0m, in \u001b[0;36mpandas._libs.hashtable.PyObjectHashTable.get_item\u001b[1;34m()\u001b[0m\n",
      "File \u001b[1;32mpandas\\_libs\\hashtable_class_helper.pxi:5753\u001b[0m, in \u001b[0;36mpandas._libs.hashtable.PyObjectHashTable.get_item\u001b[1;34m()\u001b[0m\n",
      "\u001b[1;31mKeyError\u001b[0m: 'cluster_label'",
      "\nThe above exception was the direct cause of the following exception:\n",
      "\u001b[1;31mKeyError\u001b[0m                                  Traceback (most recent call last)",
      "Cell \u001b[1;32mIn[75], line 5\u001b[0m\n\u001b[0;32m      3\u001b[0m filtered_df \u001b[39m=\u001b[39m df[(df[\u001b[39m'\u001b[39m\u001b[39mDEC\u001b[39m\u001b[39m'\u001b[39m] \u001b[39m>\u001b[39m\u001b[39m=\u001b[39m lims[\u001b[39m0\u001b[39m]) \u001b[39m&\u001b[39m (df[\u001b[39m'\u001b[39m\u001b[39mDEC\u001b[39m\u001b[39m'\u001b[39m] \u001b[39m<\u001b[39m\u001b[39m=\u001b[39m lims[\u001b[39m1\u001b[39m])]\n\u001b[0;32m      4\u001b[0m \u001b[39mprint\u001b[39m(\u001b[39mlen\u001b[39m(filtered_df))\n\u001b[1;32m----> 5\u001b[0m filtered_df \u001b[39m=\u001b[39m df[df[\u001b[39m'\u001b[39m\u001b[39mcluster_label\u001b[39m\u001b[39m'\u001b[39m] \u001b[39m!=\u001b[39m \u001b[39m-\u001b[39m\u001b[39m1\u001b[39m]\n\u001b[0;32m      6\u001b[0m colors \u001b[39m=\u001b[39m filtered_df[\u001b[39m'\u001b[39m\u001b[39mcluster_label\u001b[39m\u001b[39m'\u001b[39m]\u001b[39m.\u001b[39mastype(\u001b[39m'\u001b[39m\u001b[39mcategory\u001b[39m\u001b[39m'\u001b[39m)\u001b[39m.\u001b[39mcat\u001b[39m.\u001b[39mcodes\n",
      "File \u001b[1;32mc:\\Users\\mmann\\anaconda3\\Lib\\site-packages\\pandas\\core\\frame.py:3807\u001b[0m, in \u001b[0;36mDataFrame.__getitem__\u001b[1;34m(self, key)\u001b[0m\n\u001b[0;32m   3805\u001b[0m \u001b[39mif\u001b[39;00m \u001b[39mself\u001b[39m\u001b[39m.\u001b[39mcolumns\u001b[39m.\u001b[39mnlevels \u001b[39m>\u001b[39m \u001b[39m1\u001b[39m:\n\u001b[0;32m   3806\u001b[0m     \u001b[39mreturn\u001b[39;00m \u001b[39mself\u001b[39m\u001b[39m.\u001b[39m_getitem_multilevel(key)\n\u001b[1;32m-> 3807\u001b[0m indexer \u001b[39m=\u001b[39m \u001b[39mself\u001b[39m\u001b[39m.\u001b[39mcolumns\u001b[39m.\u001b[39mget_loc(key)\n\u001b[0;32m   3808\u001b[0m \u001b[39mif\u001b[39;00m is_integer(indexer):\n\u001b[0;32m   3809\u001b[0m     indexer \u001b[39m=\u001b[39m [indexer]\n",
      "File \u001b[1;32mc:\\Users\\mmann\\anaconda3\\Lib\\site-packages\\pandas\\core\\indexes\\base.py:3804\u001b[0m, in \u001b[0;36mIndex.get_loc\u001b[1;34m(self, key, method, tolerance)\u001b[0m\n\u001b[0;32m   3802\u001b[0m     \u001b[39mreturn\u001b[39;00m \u001b[39mself\u001b[39m\u001b[39m.\u001b[39m_engine\u001b[39m.\u001b[39mget_loc(casted_key)\n\u001b[0;32m   3803\u001b[0m \u001b[39mexcept\u001b[39;00m \u001b[39mKeyError\u001b[39;00m \u001b[39mas\u001b[39;00m err:\n\u001b[1;32m-> 3804\u001b[0m     \u001b[39mraise\u001b[39;00m \u001b[39mKeyError\u001b[39;00m(key) \u001b[39mfrom\u001b[39;00m \u001b[39merr\u001b[39;00m\n\u001b[0;32m   3805\u001b[0m \u001b[39mexcept\u001b[39;00m \u001b[39mTypeError\u001b[39;00m:\n\u001b[0;32m   3806\u001b[0m     \u001b[39m# If we have a listlike key, _check_indexing_error will raise\u001b[39;00m\n\u001b[0;32m   3807\u001b[0m     \u001b[39m#  InvalidIndexError. Otherwise we fall through and re-raise\u001b[39;00m\n\u001b[0;32m   3808\u001b[0m     \u001b[39m#  the TypeError.\u001b[39;00m\n\u001b[0;32m   3809\u001b[0m     \u001b[39mself\u001b[39m\u001b[39m.\u001b[39m_check_indexing_error(key)\n",
      "\u001b[1;31mKeyError\u001b[0m: 'cluster_label'"
     ]
    }
   ],
   "source": [
    "lims = (-1.2,1.104)\n",
    "# Filter the DataFrame based on the 'DEC' column\n",
    "filtered_df = df[(df['DEC'] >= lims[0]) & (df['DEC'] <= lims[1])]\n",
    "print(len(filtered_df))\n",
    "filtered_df = df[df['cluster_label'] != -1]\n",
    "colors = filtered_df['cluster_label'].astype('category').cat.codes"
   ]
  }
 ],
 "metadata": {
  "kernelspec": {
   "display_name": "base",
   "language": "python",
   "name": "python3"
  },
  "language_info": {
   "codemirror_mode": {
    "name": "ipython",
    "version": 3
   },
   "file_extension": ".py",
   "mimetype": "text/x-python",
   "name": "python",
   "nbconvert_exporter": "python",
   "pygments_lexer": "ipython3",
   "version": "3.11.3"
  },
  "orig_nbformat": 4
 },
 "nbformat": 4,
 "nbformat_minor": 2
}
